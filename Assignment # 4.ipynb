{
 "cells": [
  {
   "cell_type": "code",
   "execution_count": 4,
   "metadata": {},
   "outputs": [
    {
     "name": "stdout",
     "output_type": "stream",
     "text": [
      "{'first_name': 'Sikandar', 'last_name': 'Khan', 'age': 18, 'city': 'Karachi'}\n",
      "{'first_name': 'Sikandar', 'last_name': 'Khan', 'age': 18, 'city': 'Karachi', 'Qualification': 'Intermediate'}\n",
      "{'first_name': 'Sikandar', 'last_name': 'Khan', 'age': 18, 'city': 'Karachi'}\n"
     ]
    }
   ],
   "source": [
    "# Question # 1\n",
    "person = {\n",
    "    \"first_name\" : \"Sikandar\",\n",
    "    \"last_name\" : \"Khan\",\n",
    "    \"age\" : 18,\n",
    "    \"city\" : \"Karachi\"\n",
    "}\n",
    "print(person)\n",
    "person[\"Qualification\"]=\"Intermediate\"\n",
    "print(person)\n",
    "del person[\"Qualification\"]\n",
    "print(person)"
   ]
  },
  {
   "cell_type": "code",
   "execution_count": 12,
   "metadata": {},
   "outputs": [
    {
     "name": "stdout",
     "output_type": "stream",
     "text": [
      "The name of city is Karachi\n",
      " Karachi is in Pakistan\n",
      " The Population is : 15741000\n",
      " The fact is that Karachi is vital to Pakistan's economy\n",
      "The name of city is Islamabad\n",
      " Islamabad is in Pakistan\n",
      " The Population is : 1095064\n",
      " The fact is that Islamabad is the capital city for the Islamic Republic of Pakistan\n",
      "The name of city is Lahore\n",
      " Lahore is in Pakistan\n",
      " The Population is : 12188000\n",
      " The fact is that Lahore is the second largest city of Pakistan\n"
     ]
    }
   ],
   "source": [
    "# Question # 2\n",
    "cities = {\n",
    "    \"Karachi\":{\n",
    "        \"country\":\"Pakistan\",\n",
    "        \"population\":15741000,\n",
    "        \"fact\":\"Karachi is vital to Pakistan's economy\"\n",
    "    },\n",
    "    \"Islamabad\":{\n",
    "         \"country\":\"Pakistan\",\n",
    "        \"population\":1095064,\n",
    "        \"fact\":\"Islamabad is the capital city for the Islamic Republic of Pakistan\"\n",
    "    },\n",
    "    \"Lahore\":{\n",
    "         \"country\":\"Pakistan\",\n",
    "        \"population\":12188000,\n",
    "        \"fact\":\"Lahore is the second largest city of Pakistan\"\n",
    "    }\n",
    "     }\n",
    "for city,city_info in cities.items():\n",
    "    a=city_info[\"country\"]\n",
    "    b=city_info[\"population\"]\n",
    "    c=city_info[\"fact\"]\n",
    "    \n",
    "    print(\"The name of city is \"+city+\"\\n \"+city+\" is in \"+a+\"\\n The Population is : \"+str(b)+\"\\n The fact is that \"+c)"
   ]
  },
  {
   "cell_type": "code",
   "execution_count": 5,
   "metadata": {},
   "outputs": [
    {
     "name": "stdout",
     "output_type": "stream",
     "text": [
      "Enter your age?5\n",
      "Your ticket is $10\n"
     ]
    }
   ],
   "source": [
    "# Question # 3\n",
    "while True:\n",
    "    age = int(input(\"Enter your age?\"))\n",
    "    if age < 3:\n",
    "            print(\"Your ticket is free\")\n",
    "            \n",
    "    elif age>=3 and age<=12:\n",
    "          print(\"Your ticket is $10\")\n",
    "    elif age >12:\n",
    "          print(\"Your ticket is $15\")\n",
    "    else:\n",
    "          print(\"Enter correct age\")\n",
    "    break\n",
    "            "
   ]
  },
  {
   "cell_type": "code",
   "execution_count": 13,
   "metadata": {},
   "outputs": [
    {
     "name": "stdout",
     "output_type": "stream",
     "text": [
      "One of my favourite book is Alice in Wonderland\n"
     ]
    }
   ],
   "source": [
    "# Question # 4\n",
    "def favourite_book(title):\n",
    "    print(\"One of my favourite book is \"+title)\n",
    "    \n",
    "favourite_book(\"Alice in Wonderland\")"
   ]
  },
  {
   "cell_type": "code",
   "execution_count": 11,
   "metadata": {},
   "outputs": [
    {
     "name": "stdout",
     "output_type": "stream",
     "text": [
      "Guess the number between 1 and 30\n",
      "you have only three chances\n",
      "Guess the number 18\n",
      "Your number is greater than the hidden number\n",
      "Guess the number 12\n",
      "Your number is greater than the hidden number\n",
      "Guess the number 6\n",
      "You enter correct number\n",
      "The correct number is 6\n"
     ]
    }
   ],
   "source": [
    "# Question # 5\n",
    "import random\n",
    "guessTaken =0\n",
    "number = random.randint(1,30)\n",
    "print(\"Guess the number between 1 and 30\\nyou have only three chances\")\n",
    "\n",
    "while guessTaken < 3:\n",
    "    \n",
    "    guess=int(input(\"Guess the number \"))\n",
    "    \n",
    "    guessTaken = guessTaken + 1\n",
    "    if guess < number:\n",
    "        print(\"Your number is less than the hidden number\")\n",
    "    elif guess > number:\n",
    "        print(\"Your number is greater than the hidden number\")\n",
    "    else :\n",
    "        print(\"You enter correct number\")\n",
    "print(\"The correct number is\",number)"
   ]
  }
 ],
 "metadata": {
  "kernelspec": {
   "display_name": "Python 3",
   "language": "python",
   "name": "python3"
  },
  "language_info": {
   "codemirror_mode": {
    "name": "ipython",
    "version": 3
   },
   "file_extension": ".py",
   "mimetype": "text/x-python",
   "name": "python",
   "nbconvert_exporter": "python",
   "pygments_lexer": "ipython3",
   "version": "3.7.4"
  }
 },
 "nbformat": 4,
 "nbformat_minor": 2
}

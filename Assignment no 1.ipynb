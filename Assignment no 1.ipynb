{
 "cells": [
  {
   "cell_type": "code",
   "execution_count": 32,
   "metadata": {},
   "outputs": [
    {
     "name": "stdout",
     "output_type": "stream",
     "text": [
      "Twinkle, twinkle, little star,\n",
      "      \n",
      "\tHow I wonder what you are!\n",
      "      \n",
      "\t\tUp above the world so high,\n",
      "      \n",
      "\t\tLike a diamond in the sky,\n",
      "      \n",
      "Twinkle, twinkle, little star,\n",
      "      \n",
      "\tHow I wonder what you are!\n"
     ]
    }
   ],
   "source": [
    "# Question NO 1\n",
    "print(\"\"\"Twinkle, twinkle, little star,\n",
    "      \\n\\tHow I wonder what you are!\n",
    "      \\n\\t\\tUp above the world so high,\n",
    "      \\n\\t\\tLike a diamond in the sky,\n",
    "      \\nTwinkle, twinkle, little star,\n",
    "      \\n\\tHow I wonder what you are!\"\"\")\n",
    "     "
   ]
  },
  {
   "cell_type": "code",
   "execution_count": 8,
   "metadata": {},
   "outputs": [
    {
     "name": "stdout",
     "output_type": "stream",
     "text": [
      "Python version\n",
      "3.7.4 (default, Aug  9 2019, 18:34:13) [MSC v.1915 64 bit (AMD64)]\n"
     ]
    }
   ],
   "source": [
    "# Question NO 2\n",
    "import sys\n",
    "print(\"Python version\")\n",
    "print(sys.version)"
   ]
  },
  {
   "cell_type": "code",
   "execution_count": 14,
   "metadata": {},
   "outputs": [
    {
     "name": "stdout",
     "output_type": "stream",
     "text": [
      "Current date is:\n",
      "03/11/19\n",
      "Current time is:\n",
      "10/17/08\n"
     ]
    }
   ],
   "source": [
    "# Question NO 3\n",
    "import datetime\n",
    "now = datetime.datetime.now()\n",
    "print(\"Current date is:\")\n",
    "print(now.strftime(\"%d/%m/%y\"))\n",
    "print(\"Current time is:\")\n",
    "print(now.strftime(\"%H/%M/%S\"))"
   ]
  },
  {
   "cell_type": "code",
   "execution_count": 16,
   "metadata": {},
   "outputs": [
    {
     "name": "stdout",
     "output_type": "stream",
     "text": [
      "Enter radius of a circle2\n",
      "12.568\n"
     ]
    }
   ],
   "source": [
    "# Question NO 4\n",
    "radius = int(input(\"Enter radius of a circle\"))\n",
    "pi = 3.142\n",
    "Area = pi*radius**2\n",
    "print(Area)"
   ]
  },
  {
   "cell_type": "code",
   "execution_count": 17,
   "metadata": {},
   "outputs": [
    {
     "name": "stdout",
     "output_type": "stream",
     "text": [
      "Enter your first nameAzhar\n",
      "Enter your last nameNasir\n",
      "Nasir Azhar\n"
     ]
    }
   ],
   "source": [
    "# Question NO 5\n",
    "x = input(\"Enter your first name\")\n",
    "y = input(\"Enter your last name\")\n",
    "print(y+\" \"+x)"
   ]
  },
  {
   "cell_type": "code",
   "execution_count": 25,
   "metadata": {},
   "outputs": [
    {
     "name": "stdout",
     "output_type": "stream",
     "text": [
      "Enter first number4\n",
      "Enter Second number6\n",
      "The addition of two numbers is  10\n"
     ]
    }
   ],
   "source": [
    "# Question NO 6\n",
    "a = int(input(\"Enter first number\"))\n",
    "b = int(input(\"Enter Second number\"))\n",
    "print(\"The addition of two numbers is \",(a+b))"
   ]
  },
  {
   "cell_type": "code",
   "execution_count": null,
   "metadata": {},
   "outputs": [],
   "source": []
  },
  {
   "cell_type": "code",
   "execution_count": null,
   "metadata": {},
   "outputs": [],
   "source": []
  }
 ],
 "metadata": {
  "kernelspec": {
   "display_name": "Python 3",
   "language": "python",
   "name": "python3"
  },
  "language_info": {
   "codemirror_mode": {
    "name": "ipython",
    "version": 3
   },
   "file_extension": ".py",
   "mimetype": "text/x-python",
   "name": "python",
   "nbconvert_exporter": "python",
   "pygments_lexer": "ipython3",
   "version": "3.7.4"
  }
 },
 "nbformat": 4,
 "nbformat_minor": 2
}

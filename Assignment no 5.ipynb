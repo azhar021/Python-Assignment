{
 "cells": [
  {
   "cell_type": "code",
   "execution_count": 1,
   "metadata": {},
   "outputs": [
    {
     "name": "stdout",
     "output_type": "stream",
     "text": [
      "Enter positive integer to find factorial 5\n",
      "120\n"
     ]
    }
   ],
   "source": [
    "# Question NO 1\n",
    "def fac(n):\n",
    "    if n == 0:\n",
    "        return 1\n",
    "    else:\n",
    "        return n * fac(n-1)\n",
    "n=int(input(\"Enter positive integer to find factorial \"))\n",
    "print(fac(n))\n",
    "       "
   ]
  },
  {
   "cell_type": "code",
   "execution_count": 5,
   "metadata": {},
   "outputs": [
    {
     "name": "stdout",
     "output_type": "stream",
     "text": [
      "Original string :  Azhar Nasir\n",
      "Number of upper case characters = 2\n",
      "Number of lower case characters = 8\n"
     ]
    }
   ],
   "source": [
    "# Question NO 2\n",
    "def string(x):\n",
    "    d={\n",
    "        \"upper_case\":0,\n",
    "        \"lower_case\":0\n",
    "    }\n",
    "    for c in x:\n",
    "        if c.isupper():\n",
    "            d[\"upper_case\"]+=1\n",
    "        elif c.islower():\n",
    "            d[\"lower_case\"]+=1\n",
    "        else:\n",
    "            pass\n",
    "    print(\"Original string : \",x)\n",
    "    print(\"Number of upper case characters =\",d[\"upper_case\"])\n",
    "    print(\"Number of lower case characters =\",d[\"lower_case\"])\n",
    "string(\"Azhar Nasir\")"
   ]
  },
  {
   "cell_type": "code",
   "execution_count": 4,
   "metadata": {},
   "outputs": [
    {
     "name": "stdout",
     "output_type": "stream",
     "text": [
      "2\n",
      "4\n",
      "6\n",
      "8\n",
      "10\n"
     ]
    }
   ],
   "source": [
    "# Question NO 3\n",
    "list=[1,2,3,4,5,6,7,8,9,10]\n",
    "def check():\n",
    "    for x in list:\n",
    "        if x%2==0:\n",
    "            print(x)\n",
    "check()    "
   ]
  },
  {
   "cell_type": "code",
   "execution_count": 19,
   "metadata": {},
   "outputs": [
    {
     "name": "stdout",
     "output_type": "stream",
     "text": [
      "Enter a word or phrase = civic\n",
      "civic is palindrome\n"
     ]
    }
   ],
   "source": [
    "# Question NO 4\n",
    "def reverse(s):\n",
    "    return s[::-1]\n",
    "def ispalindrome(s):\n",
    "    rev = reverse(s)\n",
    "    if (s == rev):\n",
    "        return True\n",
    "    return False\n",
    "s=input(\"Enter a word or phrase = \")\n",
    "answer = ispalindrome(s)\n",
    "if answer ==1:\n",
    "    print(s,\"is palindrome\")\n",
    "else:\n",
    "    print(s,\"is not palindrome\")"
   ]
  },
  {
   "cell_type": "code",
   "execution_count": 16,
   "metadata": {},
   "outputs": [
    {
     "name": "stdout",
     "output_type": "stream",
     "text": [
      "Enter number 7\n",
      "7 is a prime number\n"
     ]
    }
   ],
   "source": [
    "# Question NO 5\n",
    "def prime(n):\n",
    "    if n>1:\n",
    "        for x in range (2,n):\n",
    "            if(n & x==0):\n",
    "                print(n,\"is not a prime number\")\n",
    "                break\n",
    "            else:\n",
    "                print(n,\"is a prime number\")\n",
    "                break\n",
    "prime(int(input(\"Enter number \")))\n",
    "                "
   ]
  },
  {
   "cell_type": "code",
   "execution_count": 24,
   "metadata": {},
   "outputs": [
    {
     "name": "stdout",
     "output_type": "stream",
     "text": [
      "eggs,vegetable,meat,bread,rice,yogurt,biscuits\n"
     ]
    }
   ],
   "source": [
    "# Question NO 6\n",
    "def items(*n):\n",
    "    for a in n:\n",
    "        print(a)\n",
    "        \n",
    "items(\"eggs,vegetable,meat,bread,rice,yogurt,biscuits\")\n"
   ]
  },
  {
   "cell_type": "code",
   "execution_count": null,
   "metadata": {},
   "outputs": [],
   "source": []
  }
 ],
 "metadata": {
  "kernelspec": {
   "display_name": "Python 3",
   "language": "python",
   "name": "python3"
  },
  "language_info": {
   "codemirror_mode": {
    "name": "ipython",
    "version": 3
   },
   "file_extension": ".py",
   "mimetype": "text/x-python",
   "name": "python",
   "nbconvert_exporter": "python",
   "pygments_lexer": "ipython3",
   "version": "3.7.4"
  }
 },
 "nbformat": 4,
 "nbformat_minor": 2
}

{
 "cells": [
  {
   "cell_type": "code",
   "execution_count": 3,
   "metadata": {},
   "outputs": [
    {
     "name": "stdout",
     "output_type": "stream",
     "text": [
      "Enter first number = 8\n",
      "Enter second number = 2\n",
      "Enter operator = **\n",
      "64\n"
     ]
    }
   ],
   "source": [
    "#Task 1\n",
    "num1= int(input(\"Enter first number = \"))\n",
    "num2= int(input(\"Enter second number = \"))\n",
    "oper=input(\"Enter operator = \")\n",
    "if oper == '+':\n",
    " print(num1+num2)\n",
    "elif oper == '-':\n",
    " print(num1-num2)\n",
    "elif oper == '*':\n",
    " print(num1*num2)\n",
    "elif oper == '/':\n",
    " print(num1/num2)\n",
    "elif oper == '**':\n",
    " print(num1**num2)\n",
    "else:\n",
    "  print(\"Enter correct operator\")\n",
    "    \n",
    "\n"
   ]
  },
  {
   "cell_type": "code",
   "execution_count": 6,
   "metadata": {},
   "outputs": [
    {
     "name": "stdout",
     "output_type": "stream",
     "text": [
      "Numeric value found is = 45\n"
     ]
    }
   ],
   "source": [
    "#Task 2\n",
    "list = [45,'Azhar',20,'Austrailia','Ali',2.7,5]\n",
    "for n in list:\n",
    "    if type(n)==int or type(n)==float:\n",
    "        print(\"Numeric value found is = \"+str(n))\n",
    "        break\n",
    "    else:\n",
    "        print(\"Numeric value found\")"
   ]
  },
  {
   "cell_type": "code",
   "execution_count": 9,
   "metadata": {},
   "outputs": [
    {
     "name": "stdout",
     "output_type": "stream",
     "text": [
      "{0: 'Austrailia', 1: 'Africa'}\n",
      "{0: 'Austrailia', 1: 'Africa', 2: 'Pakistan'}\n"
     ]
    }
   ],
   "source": [
    "#Task 3\n",
    "a = {0:\"Austrailia\", 1:\"Africa\"}\n",
    "print(a)\n",
    "a[2]=\"Pakistan\"\n",
    "print(a)"
   ]
  },
  {
   "cell_type": "code",
   "execution_count": 10,
   "metadata": {},
   "outputs": [
    {
     "name": "stdout",
     "output_type": "stream",
     "text": [
      "The dictionary is = {'a': 100, 'b': 200, 'c': 300}\n",
      "The sum of all the numeric values in dictionary is 600\n"
     ]
    }
   ],
   "source": [
    "#Task 4\n",
    "dic={\"a\":100,\"b\":200,\"c\":300}\n",
    "print(\"The dictionary is = \"+str(dic))\n",
    "print(\"The sum of all the numeric values in dictionary is \"+str(sum(dic.values())))"
   ]
  },
  {
   "cell_type": "code",
   "execution_count": 16,
   "metadata": {},
   "outputs": [
    {
     "name": "stdout",
     "output_type": "stream",
     "text": [
      "[1, 2, 3, 4, 5, 6, 9]\n"
     ]
    }
   ],
   "source": [
    "#Task 5\n",
    "list1 = {1,2,1,3,1,4,1,5,1,6,1,2,9}\n",
    "unique = []\n",
    "for  q in list1:\n",
    "    if q not in unique:\n",
    "        unique.append(q)\n",
    "print(unique)"
   ]
  },
  {
   "cell_type": "code",
   "execution_count": 19,
   "metadata": {},
   "outputs": [
    {
     "name": "stdout",
     "output_type": "stream",
     "text": [
      "Enter the key = 5\n",
      "Key is present in the dictionary\n"
     ]
    }
   ],
   "source": [
    "#Task 6\n",
    "= {1:10,2:20,3:30,4:40,5:50}\n",
    "a=int(input(\"Enter the key = \"))\n",
    "def key(x):\n",
    "    if x in s:\n",
    "        print(\"Key is present in the dictionary\")\n",
    "    else:\n",
    "        print(\"Key is not present in the dictionary\")\n",
    "key(a)"
   ]
  }
 ],
 "metadata": {
  "kernelspec": {
   "display_name": "Python 3",
   "language": "python",
   "name": "python3"
  },
  "language_info": {
   "codemirror_mode": {
    "name": "ipython",
    "version": 3
   },
   "file_extension": ".py",
   "mimetype": "text/x-python",
   "name": "python",
   "nbconvert_exporter": "python",
   "pygments_lexer": "ipython3",
   "version": "3.7.4"
  }
 },
 "nbformat": 4,
 "nbformat_minor": 2
}

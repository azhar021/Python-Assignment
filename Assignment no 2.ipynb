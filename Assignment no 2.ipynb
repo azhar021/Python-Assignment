{
 "cells": [
  {
   "cell_type": "code",
   "execution_count": 19,
   "metadata": {},
   "outputs": [
    {
     "name": "stdout",
     "output_type": "stream",
     "text": [
      "Enter your mathmetics marks80\n",
      "Enter your Physics marks75.5\n",
      "Enter your Chemistry marks82.5\n",
      "Enter your English marks77\n",
      "Enter your Urdu marks78\n",
      "Total marks= 393.0\n",
      "Percentage = 78.60000000000001\n",
      "You secure A grade\n"
     ]
    }
   ],
   "source": [
    "# Question NO 1\n",
    "\n",
    "math = float(input(\"Enter your mathmetics marks\"))\n",
    "phy = float(input(\"Enter your Physics marks\"))\n",
    "chem = float(input(\"Enter your Chemistry marks\"))\n",
    "eng = float(input(\"Enter your English marks\"))\n",
    "urdu = float(input(\"Enter your Urdu marks\"))\n",
    "\n",
    "total = math+phy+chem+eng+urdu\n",
    "print(\"Total marks=\",total)\n",
    "per = (total/500)*100\n",
    "print(\"Percentage =\",per)\n",
    "\n",
    "if (per>=80 and per<100):\n",
    " print(\"You secure A+ grade\");\n",
    "elif (per>=70 and per<80):\n",
    " print(\"You secure A grade\")\n",
    "elif (per>=60 and per<70):\n",
    " print(\"You secure B grade\")\n",
    "elif (per>=50 and per<=60):\n",
    " print(\"You secure C grade\")\n",
    "elif (per>=0 and per<50):\n",
    " print(\"You are fail\")\n",
    "\n",
    "else :\n",
    "    print(\"you enter wrong value\")\n"
   ]
  },
  {
   "cell_type": "code",
   "execution_count": 23,
   "metadata": {},
   "outputs": [
    {
     "name": "stdout",
     "output_type": "stream",
     "text": [
      "Enter a number 18\n",
      "Your number is even\n"
     ]
    }
   ],
   "source": [
    "# Question NO 2\n",
    "num = int(input(\"Enter a number \"))\n",
    "if num % 2 == 0:\n",
    "    print(\"Your number is even\")\n",
    "else:\n",
    "    print(\"Your number is odd\")\n",
    "       "
   ]
  },
  {
   "cell_type": "code",
   "execution_count": 29,
   "metadata": {},
   "outputs": [
    {
     "name": "stdout",
     "output_type": "stream",
     "text": [
      "Length of the list is  7\n"
     ]
    }
   ],
   "source": [
    "# Question NO 3\n",
    "array =[23,45,12,56,True,\"Azhar\",\"Python\"]\n",
    "print(\"Length of the list is \",len(array))"
   ]
  },
  {
   "cell_type": "code",
   "execution_count": 32,
   "metadata": {},
   "outputs": [
    {
     "name": "stdout",
     "output_type": "stream",
     "text": [
      "Sum of all the elements is  29\n"
     ]
    }
   ],
   "source": [
    "# Question NO 4\n",
    "array =[3,7,5,8,2,4]\n",
    "print(\"Sum of all the elements is \",sum(array))"
   ]
  },
  {
   "cell_type": "code",
   "execution_count": 33,
   "metadata": {},
   "outputs": [
    {
     "name": "stdout",
     "output_type": "stream",
     "text": [
      "Largest number in the list is  8\n"
     ]
    }
   ],
   "source": [
    "# Question NO 5\n",
    "array =[3,7,5,8,2,4]\n",
    "print(\"Largest number in the list is \",max(array))"
   ]
  },
  {
   "cell_type": "code",
   "execution_count": 54,
   "metadata": {},
   "outputs": [
    {
     "name": "stdout",
     "output_type": "stream",
     "text": [
      "[1, 1, 2, 3]\n"
     ]
    }
   ],
   "source": [
    "# Question NO 6\n",
    "a = [1, 1, 2, 3, 5, 8, 13, 21, 34, 55, 89]\n",
    "\n",
    "new_list = []\n",
    "\n",
    "for item in a:\n",
    "  \n",
    "  if item < 5:\n",
    "    \n",
    "      new_list.append(item)\n",
    "print(new_list)"
   ]
  }
 ],
 "metadata": {
  "kernelspec": {
   "display_name": "Python 3",
   "language": "python",
   "name": "python3"
  },
  "language_info": {
   "codemirror_mode": {
    "name": "ipython",
    "version": 3
   },
   "file_extension": ".py",
   "mimetype": "text/x-python",
   "name": "python",
   "nbconvert_exporter": "python",
   "pygments_lexer": "ipython3",
   "version": "3.7.4"
  }
 },
 "nbformat": 4,
 "nbformat_minor": 2
}
